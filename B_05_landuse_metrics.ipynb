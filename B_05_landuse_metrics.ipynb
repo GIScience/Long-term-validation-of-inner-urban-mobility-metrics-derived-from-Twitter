{
 "cells": [
  {
   "cell_type": "code",
   "execution_count": 1,
   "id": "01066def",
   "metadata": {},
   "outputs": [],
   "source": [
    "import pandas as pd\n",
    "import geopandas as gpd\n",
    "import backend_codes.load_subsets as ls"
   ]
  },
  {
   "cell_type": "markdown",
   "id": "1bfb3bfc",
   "metadata": {},
   "source": [
    "# This notebook calculates satistics related to landuse"
   ]
  },
  {
   "cell_type": "code",
   "execution_count": 2,
   "id": "65562573",
   "metadata": {},
   "outputs": [],
   "source": [
    "# Rolling Window Parameters\n",
    "start = \"20200406\"\n",
    "end = \"20200409\"\n",
    "denom = \"3days\"\n",
    "allow_even_subsets = False\n",
    "sam = False\n",
    "del_one_tweeters = True"
   ]
  },
  {
   "cell_type": "code",
   "execution_count": 3,
   "id": "bffedb28",
   "metadata": {},
   "outputs": [],
   "source": [
    "ref = \"statistics_notebookdemo/\" + denom + \"_overlap.csv\"\n",
    "if type(sam) == int:\n",
    "    ref = ref.split('.csv')[0] + \"_\" +str(sam) + \".csv\""
   ]
  },
  {
   "cell_type": "code",
   "execution_count": 4,
   "id": "5c911694",
   "metadata": {},
   "outputs": [],
   "source": [
    "path = f\"data/{ref}\"\n",
    "file = pd.read_csv(f'data/{ref}', index_col='start_date')"
   ]
  },
  {
   "cell_type": "code",
   "execution_count": 5,
   "id": "e7289e82",
   "metadata": {},
   "outputs": [],
   "source": [
    "landuse = gpd.read_file('data/shps/land_use_land_cover.shp').to_crs(4326)"
   ]
  },
  {
   "cell_type": "code",
   "execution_count": 6,
   "id": "42864dbc",
   "metadata": {},
   "outputs": [],
   "source": [
    "landuse['counts'] = 0"
   ]
  },
  {
   "cell_type": "markdown",
   "id": "5846b383",
   "metadata": {},
   "source": [
    "### Load tweets and handle geometries"
   ]
  },
  {
   "cell_type": "code",
   "execution_count": 7,
   "id": "802adec8",
   "metadata": {},
   "outputs": [],
   "source": [
    "tweets_df = ls.load_and_subset(start, end, del_one_tweeters=del_one_tweeters, samp_size=sam, tweets_path=\"data/tweets/preprocessed_tweets_with_poi_location.csv\")\n",
    "tweets_df['wkt'] = gpd.GeoSeries.from_wkt(tweets_df.wkt)\n",
    "tweets_df = gpd.GeoDataFrame(tweets_df, geometry='wkt', crs=4326)"
   ]
  },
  {
   "cell_type": "markdown",
   "id": "0ea3d137",
   "metadata": {},
   "source": [
    "### Define function for counting tweets in polygons\n",
    "The function also writes the tweet counts into the geodataframe that contains the geometries."
   ]
  },
  {
   "cell_type": "code",
   "execution_count": 8,
   "id": "01a50593",
   "metadata": {},
   "outputs": [],
   "source": [
    "def count_points(zone):\n",
    "    idx = zone.name\n",
    "    poly = zone.geometry\n",
    "    clipped = gpd.clip(tweets_df, poly)\n",
    "    no_of_tweets = len(clipped)\n",
    "    landuse.loc[idx, 'counts'] = no_of_tweets"
   ]
  },
  {
   "cell_type": "markdown",
   "id": "8c430ed1",
   "metadata": {},
   "source": [
    "### Apply function to the geometry dataframe"
   ]
  },
  {
   "cell_type": "code",
   "execution_count": 9,
   "id": "83ec7797",
   "metadata": {},
   "outputs": [],
   "source": [
    "%%capture\n",
    "landuse.apply(count_points, axis=1)"
   ]
  },
  {
   "cell_type": "code",
   "execution_count": 10,
   "id": "82379829",
   "metadata": {},
   "outputs": [],
   "source": [
    "stats = {}\n",
    "for cls in landuse.lu_transl.values.tolist():\n",
    "    stats[f'rel_tweets_in_{cls}'] = landuse.loc[landuse.lu_transl == cls].counts.values[0] / len(tweets_df)"
   ]
  },
  {
   "cell_type": "code",
   "execution_count": 11,
   "id": "49a0341a",
   "metadata": {},
   "outputs": [],
   "source": [
    "start = int(start)\n",
    "for name, val in stats.items():\n",
    "    file.loc[start, name] = val\n",
    "    \n",
    "file.to_csv(f'data/{ref}')"
   ]
  },
  {
   "cell_type": "code",
   "execution_count": 12,
   "id": "5ae5f03a",
   "metadata": {},
   "outputs": [
    {
     "name": "stdout",
     "output_type": "stream",
     "text": [
      "rel_tweets_in_agricultural_areas : 0.0\n",
      "rel_tweets_in_trade_and_service_areas : 0.0466\n",
      "rel_tweets_in_water_bodies : 0.0\n",
      "rel_tweets_in_mineral_exploration_areas : 0.0\n",
      "rel_tweets_in_transport_areas : 0.0087\n",
      "rel_tweets_in_industrial_areas : 0.0029\n",
      "rel_tweets_in_rocky_outcrops_and_sedimentary_deposits : 0.0233\n",
      "rel_tweets_in_leisure_areas : 0.0292\n",
      "rel_tweets_in_institutional_and_public_infrastructure_areas : 0.0146\n",
      "rel_tweets_in_residential_areas : 0.6676\n",
      "rel_tweets_in_unbuilt_areas : 0.0029\n",
      "rel_tweets_in_education_and_health_areas : 0.0058\n",
      "rel_tweets_in_tree_and_shrub_cover : 0.0058\n",
      "rel_tweets_in_woody_grass_cover : 0.0029\n",
      "rel_tweets_in_favela : 0.1895\n",
      "rel_tweets_in_Areas_subject_to_flooding : 0.0\n"
     ]
    }
   ],
   "source": [
    "for key, val in stats.items():\n",
    "    print(key, \":\", round(val, 4))"
   ]
  }
 ],
 "metadata": {
  "kernelspec": {
   "display_name": "Python 3 (ipykernel)",
   "language": "python",
   "name": "python3"
  },
  "language_info": {
   "codemirror_mode": {
    "name": "ipython",
    "version": 3
   },
   "file_extension": ".py",
   "mimetype": "text/x-python",
   "name": "python",
   "nbconvert_exporter": "python",
   "pygments_lexer": "ipython3",
   "version": "3.11.4"
  }
 },
 "nbformat": 4,
 "nbformat_minor": 5
}

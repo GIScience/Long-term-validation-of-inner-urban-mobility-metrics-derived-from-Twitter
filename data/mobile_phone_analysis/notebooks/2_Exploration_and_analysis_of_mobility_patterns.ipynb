{
 "cells": [
  {
   "cell_type": "markdown",
   "id": "811f4768-7b8e-46a7-956d-98379310b977",
   "metadata": {},
   "source": [
    "# Exploration and analysis of mobility patterns"
   ]
  },
  {
   "cell_type": "markdown",
   "id": "a9d69c9c-2f3a-4fa2-976d-de499d82e7ff",
   "metadata": {},
   "source": [
    "This notebooks aims at exploring and anaylzing mobility patterns derived from mobile phone records. Necessary inputs can be generated using the notebook \"1_Retrieval_of_individual_human_movement_trajectories_and_collective_OD_matrices.ipynb\""
   ]
  },
  {
   "cell_type": "markdown",
   "id": "545f2270-dfbc-43cb-81a8-26c345f955f9",
   "metadata": {},
   "source": [
    "Load packages"
   ]
  },
  {
   "cell_type": "code",
   "execution_count": null,
   "id": "09d35d12-1fe1-482f-bac5-08a30b10d9ec",
   "metadata": {},
   "outputs": [],
   "source": [
    "import numpy as np\n",
    "import pandas as pd\n",
    "import matplotlib.pyplot as plt\n",
    "import seaborn as sns \n",
    "from datetime import datetime\n",
    "import geopandas as gpd\n",
    "import networkx as nx\n",
    "import contextily as cx \n",
    "from contextily import add_basemap \n",
    "from shapely.geometry import Point #<2.0.1\n",
    "import folium\n",
    "import geoplot \n",
    "import matplotlib.ticker as ticker\n",
    "import os\n",
    "import mapclassify as mc\n",
    "import community \n",
    "from community import community_louvain\n",
    "import networkx as nx\n",
    "import matplotlib.cm as cm\n",
    "from datetime import date\n",
    "from sklearn.preprocessing import normalize\n",
    "import itertools"
   ]
  },
  {
   "cell_type": "markdown",
   "id": "96fa8544-a753-4daa-b47a-276d09e10db2",
   "metadata": {},
   "source": [
    "# A) Temporal exploration of collected metadata\n",
    "This subsection aims at visulizing temporal patterns of the collected metadata "
   ]
  },
  {
   "cell_type": "markdown",
   "id": "90a73cda-a2de-4bc1-9b99-d12176198514",
   "metadata": {},
   "source": [
    "Load and display metadata"
   ]
  },
  {
   "cell_type": "code",
   "execution_count": null,
   "id": "f27d6342-8bdf-4a50-acf3-82362d5ec51d",
   "metadata": {},
   "outputs": [],
   "source": [
    "# Create array of metadata filenames\n",
    "metadata_arrays = {}\n",
    "for filename in os.listdir('../data/1_intermediate_output/metadata'):\n",
    "    if filename.endswith('.csv'):\n",
    "        metadata_arrays[filename] = pd.read_csv(os.path.join('../data/1_intermediate_output/metadata',filename), header=None, index_col=0)\n",
    "\n",
    "# Create dataframe column with user counts\n",
    "user_count_dict = {}\n",
    "for key, value in metadata_arrays.items():\n",
    "    user_count_dict[value.T.loc[value.T.index[0],'end_timestamp']] = (datetime.strptime(str(value.T.loc[value.T.index[0],'end_timestamp']), '%Y%m%d%H%M%S').strftime('%m/%d/%Y'), value.T.loc[value.T.index[0],'user_count'])\n",
    "user_count_df = pd.DataFrame.from_dict(user_count_dict, orient='index').set_index([0])\n",
    "user_count_df.columns = ['user_count']\n",
    "\n",
    "# Create dataframe column with count of antenna connections\n",
    "call_count_dict = {}\n",
    "for key, value in metadata_arrays.items():\n",
    "    call_count_dict[value.T.loc[value.T.index[0],'end_timestamp']] = (datetime.strptime(str(value.T.loc[value.T.index[0],'end_timestamp']), '%Y%m%d%H%M%S').strftime('%m/%d/%Y'), value.T.loc[value.T.index[0],'call_count'])\n",
    "call_count_df = pd.DataFrame.from_dict(call_count_dict, orient='index').set_index([0])\n",
    "call_count_df.columns = ['call_count']\n",
    "\n",
    "# Create dataframe column with count of transitions (IET filtered)\n",
    "transition_count_filtered_dict = {}\n",
    "for key, value in metadata_arrays.items():\n",
    "    transition_count_filtered_dict[value.T.loc[value.T.index[0],'end_timestamp']] = (datetime.strptime(str(value.T.loc[value.T.index[0],'end_timestamp']), '%Y%m%d%H%M%S').strftime('%m/%d/%Y'), value.T.loc[value.T.index[0],'transition_count_filtered'])\n",
    "transition_count_filtered_df = pd.DataFrame.from_dict(transition_count_filtered_dict, orient='index').set_index([0])\n",
    "transition_count_filtered_df.columns = ['transition_count_filtered']\n",
    "\n",
    "# Create dataframe column with count of transitions (non-IET filtered)\n",
    "transition_count_unfiltered_dict = {}\n",
    "for key, value in metadata_arrays.items():\n",
    "    transition_count_unfiltered_dict[value.T.loc[value.T.index[0],'end_timestamp']] = (datetime.strptime(str(value.T.loc[value.T.index[0],'end_timestamp']), '%Y%m%d%H%M%S').strftime('%m/%d/%Y'), value.T.loc[value.T.index[0],'transition_count_unfiltered'])\n",
    "transition_count_unfiltered_df = pd.DataFrame.from_dict(transition_count_unfiltered_dict, orient='index').set_index([0])\n",
    "transition_count_unfiltered_df.columns = ['transition_count_unfiltered']\n",
    "\n",
    "# Merge dataframe columns to single dataframe and add 3 additional statistics\n",
    "metadata_df = pd.concat([user_count_df, call_count_df, transition_count_filtered_df, transition_count_unfiltered_df], axis=1)\n",
    "metadata_df['average amount of calls per user'] = metadata_df.call_count/metadata_df.user_count\n",
    "metadata_df['proportion filtered to unfiltered transitions'] = metadata_df.transition_count_filtered/metadata_df.transition_count_unfiltered\n",
    "metadata_df['weekly citywide penetration rate'] = metadata_df.user_count/6360689 # divided by the official population count of the city of Rio de Janeiro\n",
    "\n",
    "# print metadata dataframe\n",
    "metadata_df"
   ]
  },
  {
   "cell_type": "markdown",
   "id": "597ca39b-9e36-44c2-b050-a2a194c5289c",
   "metadata": {},
   "source": [
    "Plot amount of mobile phone connections over time"
   ]
  },
  {
   "cell_type": "code",
   "execution_count": null,
   "id": "a3e36552-0cf4-4c56-acc0-b2ae4ca07202",
   "metadata": {},
   "outputs": [],
   "source": [
    "plt.figure(figsize=(25,5))\n",
    "plt.ticklabel_format(style='plain', axis='y')\n",
    "plt.xticks(rotation=90)\n",
    "plot_ = sns.lineplot(data=metadata_df.call_count, color=\"g\", label='call_count')\n",
    "plot_.xaxis.set_major_locator(ticker.LinearLocator(10))\n",
    "ax2 = plt.twinx()\n",
    "plt.ticklabel_format(style='plain', axis='y')\n",
    "plot_ = sns.lineplot(data=metadata_df.user_count, color=\"b\", label='user_count', ax=ax2).set_title('Amount of mobile phone connections')"
   ]
  },
  {
   "cell_type": "markdown",
   "id": "bee697af-754e-49bc-ba86-3c25525d3f99",
   "metadata": {},
   "source": [
    "Plot amount of call records per user"
   ]
  },
  {
   "cell_type": "code",
   "execution_count": null,
   "id": "783227f0-4274-400c-9070-edc257a928c2",
   "metadata": {},
   "outputs": [],
   "source": [
    "plt.figure(figsize=(25,5))\n",
    "plt.ticklabel_format(style='plain', axis='y')\n",
    "plt.xticks(rotation=90)\n",
    "plot_=sns.lineplot(data=metadata_df[\"average amount of calls per user\"]).set_title('Amount of call records per user')"
   ]
  },
  {
   "cell_type": "markdown",
   "id": "0f6ca2eb-78b3-4939-9ba3-4bf48e19f9e6",
   "metadata": {},
   "source": [
    "Plot amount of measured movements"
   ]
  },
  {
   "cell_type": "code",
   "execution_count": null,
   "id": "60f1d3c2-a6ed-48e5-b1f5-0fd64ad9d72d",
   "metadata": {},
   "outputs": [],
   "source": [
    "metadata_df['transition_count_unfiltered_moving_avg'] = metadata_df.transition_count_unfiltered.rolling(28).mean().shift(-14) \n",
    "\n",
    "plt.figure(figsize=(25,5))\n",
    "plt.ticklabel_format(style='plain', axis='y')\n",
    "plt.xticks(rotation=90)\n",
    "plot_=sns.lineplot(data=metadata_df[\"transition_count_unfiltered\"],label ='Movements').set_title('Amount of measured movements')"
   ]
  },
  {
   "cell_type": "markdown",
   "id": "fb67f16c-041b-474c-8066-be508d8c28b9",
   "metadata": {},
   "source": [
    " Explore proportion of filtered to unfiltered transitions"
   ]
  },
  {
   "cell_type": "code",
   "execution_count": null,
   "id": "589a4b7c-e120-4f5d-a3ae-dd12afcd4dbc",
   "metadata": {},
   "outputs": [],
   "source": [
    "# Barplot\n",
    "transitions = metadata_df[['transition_count_filtered', 'transition_count_unfiltered']]\n",
    "transitions.index.name = 'Day'\n",
    "transitions.reset_index(inplace=True)\n",
    "transitions\n",
    "plt.figure(figsize=(25,5))\n",
    "plt.ticklabel_format(style='plain', axis='y')\n",
    "plt.xticks(rotation=90)\n",
    "sn1 = sns.barplot(x = 'Day', y = 'transition_count_unfiltered', data = transitions, color = 'red', label='unfiltered')\n",
    "sn2 = sns.barplot(x = 'Day', y = 'transition_count_filtered', data = transitions, color = 'blue')\n",
    "sn1.set(xlabel='Days', ylabel='Amount of Transitions')\n",
    "sn2.xaxis.set_major_locator(ticker.LinearLocator(10))"
   ]
  },
  {
   "cell_type": "markdown",
   "id": "027f0ce4-d09b-4272-8ff3-b86da56eada3",
   "metadata": {},
   "source": [
    "Plot and retrieve amount of active antennas over time and add to metadata"
   ]
  },
  {
   "cell_type": "code",
   "execution_count": null,
   "id": "7f1b84cb-9916-46cc-81dc-1450a1b9d346",
   "metadata": {},
   "outputs": [],
   "source": [
    "stay_times_at_antennas = {}\n",
    "for filename in os.listdir('../data/1_intermediate_output/stay_times_at_antennas'):\n",
    "    if filename.endswith('.csv'):\n",
    "        stay_times_at_antennas[filename] = pd.read_csv(os.path.join('../data/1_intermediate_output/stay_times_at_antennas',filename))"
   ]
  },
  {
   "cell_type": "code",
   "execution_count": null,
   "id": "f553b4dd-02fc-4d1a-952d-afc11965e200",
   "metadata": {},
   "outputs": [],
   "source": [
    "amount_of_antennas = []\n",
    "for key, value in stay_times_at_antennas.items():\n",
    "    amount_of_antennas.append(len(value))\n",
    "metadata_df['amount_of_antennas'] = amount_of_antennas\n",
    "\n",
    "# Plot\n",
    "plt.figure(figsize=(25,5))\n",
    "plt.ticklabel_format(style='plain', axis='y')\n",
    "plt.xticks(rotation=45)\n",
    "plot_ = sns.lineplot(data=metadata_df.amount_of_antennas, color=\"r\", label='Amount of active Antennas')\n",
    "plot_.xaxis.set_major_locator(ticker.LinearLocator(10))"
   ]
  },
  {
   "cell_type": "markdown",
   "id": "2babc9ea-cfc9-49f2-a0d8-498b4bb4466c",
   "metadata": {},
   "source": [
    "# B) Spatial exploration using \"stay_time_at_antennas.csv\" files\n",
    "This subsection explores the spatial insights stored in the \"stay_time_at_antennas.csv\" files. For spatio-temporal insights this section can be run in a loop over each time interval of analysis e.g. by iterating over stay_time_at_antennas.csv files."
   ]
  },
  {
   "cell_type": "markdown",
   "id": "aa44de01-6918-43c7-9ceb-71ce3a20614d",
   "metadata": {},
   "source": [
    "Retrieve amount of connections per antenna"
   ]
  },
  {
   "cell_type": "code",
   "execution_count": null,
   "id": "96662e3e-1005-4c57-9970-49083d573756",
   "metadata": {},
   "outputs": [],
   "source": [
    "antenna_stats_df = pd.concat(stay_times_at_antennas.values(), ignore_index=True)\n",
    "antenna_stats_df.drop(columns=[' mean',' stddev'], inplace=True)\n",
    "antenna_stats_df = antenna_stats_df.groupby(['lat', ' lon']).sum().reset_index() # groupby + sum\n",
    "antennas_gdf = gpd.GeoDataFrame(antenna_stats_df, geometry=gpd.points_from_xy(antenna_stats_df[' lon'], antenna_stats_df.lat))\n",
    "antennas_gdf.set_crs(\"EPSG:4326\", inplace=True).head()"
   ]
  },
  {
   "cell_type": "markdown",
   "id": "69136068-5d41-4a75-894f-e0a946db9e71",
   "metadata": {},
   "source": [
    "Add mean duration time for each antenna"
   ]
  },
  {
   "cell_type": "code",
   "execution_count": null,
   "id": "acc8ef28-f3b2-4a93-8e93-b8c8853379cc",
   "metadata": {},
   "outputs": [],
   "source": [
    "antenna_stats_df_2 = pd.concat(stay_times_at_antennas.values(), ignore_index=True)\n",
    "antenna_stats_df_2.drop(columns=[' count',' stddev'], inplace=True)\n",
    "antenna_stats_df_2 = antenna_stats_df_2.groupby(['lat', ' lon']).mean().reset_index() # groupby + mean\n",
    "antennas_gdf_2 = gpd.GeoDataFrame(antenna_stats_df_2, geometry=gpd.points_from_xy(antenna_stats_df_2[' lon'], antenna_stats_df_2.lat))\n",
    "antennas_gdf_2.set_crs(\"EPSG:4326\", inplace=True).head()"
   ]
  },
  {
   "cell_type": "markdown",
   "id": "4e8482d8-9417-4f59-896b-be585770d1fe",
   "metadata": {},
   "source": [
    "Get study region "
   ]
  },
  {
   "cell_type": "code",
   "execution_count": null,
   "id": "f372befe-40ff-43c6-a797-da3ed37d0e21",
   "metadata": {},
   "outputs": [],
   "source": [
    "study_area = gpd.read_file(\"../data/0_input_data/study_region/study_region_RJ.geojson\")\n",
    "study_area.to_crs(epsg=4326, inplace=True)"
   ]
  },
  {
   "cell_type": "markdown",
   "id": "879215ee-d4c9-4878-a0da-5afed90d09ca",
   "metadata": {},
   "source": [
    "Filter out antennas outside of study region"
   ]
  },
  {
   "cell_type": "code",
   "execution_count": null,
   "id": "7d64f3d6-1869-4a79-bf6d-93a0841d461d",
   "metadata": {},
   "outputs": [],
   "source": [
    "antennas_in_RJ = antennas_gdf[antennas_gdf.geometry.within(study_area.geometry.unary_union)]\n",
    "antennas_in_RJ_2 = antennas_gdf_2[antennas_gdf_2.geometry.within(study_area.geometry.unary_union)]\n",
    "antennas_in_RJ['mean'] = antennas_in_RJ_2[' mean']"
   ]
  },
  {
   "cell_type": "markdown",
   "id": "04c4d3e0-6e05-40d9-ae9b-4d6fbcda308f",
   "metadata": {},
   "source": [
    "Plot bubble map of connections per antenna"
   ]
  },
  {
   "cell_type": "code",
   "execution_count": null,
   "id": "34116e7c-f14e-4cec-bfc1-6c7e37159eb9",
   "metadata": {},
   "outputs": [],
   "source": [
    "ax = geoplot.polyplot(study_area, facecolor=\"white\", figsize=(30, 15))\n",
    "geoplot.pointplot(antennas_in_RJ, hue=\" count\", scale=\" count\", cmap=\"Reds\", ax=ax, edgecolor=\"black\", legend=True, legend_var=\"scale\",\n",
    "                  legend_kwargs={\"loc\":\"best\", \"fontsize\": \"large\", \"title\":\"Connections per antenna\",  \"title_fontsize\":\"large\"},\n",
    "                  # define absolute numbers in legend and remove bbox\n",
    "                  limits=(5, 40),)\n",
    "plt.title(\"Connections per antenna vary with density\", fontdict={\"fontsize\": 20}, pad=15)"
   ]
  },
  {
   "cell_type": "markdown",
   "id": "fc0c8d35-0fdf-49ec-91ff-84269f7cc3d5",
   "metadata": {},
   "source": [
    "Retrieve and plot amount of connections per admin zone"
   ]
  },
  {
   "cell_type": "code",
   "execution_count": null,
   "id": "3c1a3972-4a37-4280-b143-5cd41dbbfc21",
   "metadata": {},
   "outputs": [],
   "source": [
    "antennas_in_admin = gpd.sjoin(antennas_in_RJ, study_area, op='within')\n",
    "antennas_in_admin.drop(columns=['lat',' lon','geometry', 'mean', 'index_right','Área', 'NOME'], inplace=True)\n",
    "antenna_connections_in_admin = antennas_in_admin.groupby(['CODBAIRRO']).sum().reset_index()\n",
    "result = study_area.set_index('CODBAIRRO').join(antenna_connections_in_admin.set_index('CODBAIRRO'))\n",
    "result['count/area'] = result[' count'].div(result['Área'])\n",
    "\n",
    "# PLot\n",
    "fig, axes = plt.subplots(ncols=2, figsize=(25, 12))\n",
    "ax1, ax2 = axes\n",
    "ax1.set_title('Absolute connection per admine zone')\n",
    "result.plot(\" count\", edgecolor='lightgrey', cmap=\"YlOrRd\", ax=ax1, legend=True, scheme='quantiles') \n",
    "ax2.set_title('Relative connections per admin zone')\n",
    "result.plot(\"count/area\", edgecolor='lightgrey', cmap=\"YlOrRd\", ax=ax2, legend=True, scheme='quantiles') "
   ]
  },
  {
   "cell_type": "markdown",
   "id": "8d9e583e-d1f9-45a9-8106-47c703febc4c",
   "metadata": {},
   "source": [
    "Retrieve amount of connections per land use class"
   ]
  },
  {
   "cell_type": "code",
   "execution_count": null,
   "id": "d9087e54-e3a9-455e-8558-c36e8502413a",
   "metadata": {},
   "outputs": [],
   "source": [
    "# Get Land Use map\n",
    "LULC = gpd.read_file(\"../data/0_input_data/LULC/LULC_RJ.geojson\")\n",
    "LULC.to_crs(epsg=4326, inplace=True)\n",
    "\n",
    "# Aggregated antenna connections on land use classes\n",
    "antennas_in_LULC = gpd.sjoin(antennas_in_RJ, LULC, op='within')\n",
    "antennas_in_LULC.drop(columns=['lat',' lon','geometry', 'mean', 'index_right', 'OBJECTID', 'Grupo', 'RuleID','Ano','RuleID_1','BaseGeoDBO','ShapeSTAre','ShapeSTLen'], inplace=True)\n",
    "antenna_connections_in_LULC = antennas_in_LULC.groupby(['UsoAgregad']).sum().reset_index()\n",
    "antenna_connections_in_LULC['percentual'] = (antenna_connections_in_LULC[' count']/antenna_connections_in_LULC[' count'].sum())*100\n",
    "antenna_connections_in_LULC"
   ]
  },
  {
   "cell_type": "markdown",
   "id": "f5f82267-66f5-4310-ab20-bc2b139e7edd",
   "metadata": {},
   "source": [
    "Plot average connection time per antenna"
   ]
  },
  {
   "cell_type": "code",
   "execution_count": null,
   "id": "bd38997e-1986-4e11-a4c2-2b10ee81f0c2",
   "metadata": {},
   "outputs": [],
   "source": [
    "# Plot\n",
    "scheme = mc.Quantiles(antennas_in_RJ['mean'], k=5)\n",
    "ax = geoplot.polyplot(study_area, facecolor=\"white\", figsize=(30, 15))\n",
    "geoplot.pointplot(antennas_in_RJ, hue=\"mean\", scheme=scheme, scale=\"mean\", cmap=\"YlGnBu\", ax=ax, edgecolor=\"black\", legend=True, legend_var=\"scale\",\n",
    "                  legend_kwargs={\"loc\":\"best\", \"fontsize\": \"large\", \"title\":\"Antenna connection time\",  \"title_fontsize\":\"large\"}, limits=(5, 40),) # limits specify circle size\n",
    "plt.title(\"Average antenna connection time\", fontdict={\"fontsize\": 15}, pad=15);"
   ]
  },
  {
   "cell_type": "markdown",
   "id": "7def4456-a6c4-4500-8b20-7fa25a9c1b2e",
   "metadata": {},
   "source": [
    "Retrieve and plot average connection time per admin zone"
   ]
  },
  {
   "cell_type": "code",
   "execution_count": null,
   "id": "3dd81df0-562e-43df-968e-b2d0ec80ffb2",
   "metadata": {},
   "outputs": [],
   "source": [
    "antennas_in_admin = gpd.sjoin(antennas_in_RJ, study_area, op='within')\n",
    "antennas_in_admin.drop(columns=['lat',' lon','geometry', ' count', 'index_right','Área', 'NOME'], inplace=True)\n",
    "antenna_connections_in_admin = antennas_in_admin.groupby(['CODBAIRRO']).mean().reset_index()\n",
    "result = study_area.set_index('CODBAIRRO').join(antenna_connections_in_admin.set_index('CODBAIRRO'))\n",
    "result\n",
    "\n",
    "# PLot\n",
    "fig, ax = plt.subplots(figsize=(25,10))\n",
    "ax.set_title('Average Connection Time per Admin Zone')\n",
    "result.plot(\"mean\", edgecolor='lightgrey', cmap=\"YlGnBu\", ax=ax, legend=True, scheme='quantiles') "
   ]
  },
  {
   "cell_type": "markdown",
   "id": "056d242b-4fca-47c6-b82b-8188106c27a0",
   "metadata": {},
   "source": [
    "# C) Spatial exploration of Origin-Destination (OD) matrices\n",
    "For spatio-temporal insights this section can be run in a loop over each time interval of analysis. OD matrices can also be aggregated over time."
   ]
  },
  {
   "cell_type": "markdown",
   "id": "2b023257-2c8c-4699-b173-3bccdf17a618",
   "metadata": {
    "tags": []
   },
   "source": [
    "Example of temporal aggregation of admin to admin OD matrices"
   ]
  },
  {
   "cell_type": "code",
   "execution_count": null,
   "id": "2f6f8a88-e2c4-4741-bf98-affa192560c8",
   "metadata": {},
   "outputs": [],
   "source": [
    "admin2admin_arrays = {}\n",
    "for filename in os.listdir('../data/1_intermediate_output/admin2admin'):\n",
    "    if filename.endswith('.npy'):\n",
    "        admin2admin_arrays[filename] = np.load(os.path.join('../data/1_intermediate_output/admin2admin',filename))\n",
    "\n",
    "# Example for aggregation on a weekly basis. The \"timestamps_weekly.csv\" can be generated manually.\n",
    "admin2admin_arrays_weekly_aggregated = {}\n",
    "# Load timestamps weekly sorted\n",
    "timestamps_weekly = pd.read_csv('../data/0_input_data/timestamps/timestamps_weekly.csv', delimiter='\\t', encoding='utf-8', header=None, dtype=str)\n",
    "# iterate over rows\n",
    "for index, row in timestamps_weekly.iterrows():\n",
    "    # Make all elements of a row to a list\n",
    "    liste = list(row)\n",
    "    # Iterate over list elements (=days) and retireve arrays from dict\n",
    "    weekly_arrays_list = []\n",
    "    for element in liste:\n",
    "        element_value = [v for k, v in admin2admin_arrays.items() if k.startswith('admin2admin_' + str(element))]\n",
    "        # If array exist add to list of weekly arrays\n",
    "        if element_value:\n",
    "            weekly_arrays_list.append(element_value[0])           \n",
    "    # If week complete - aggregate and add to new dict\n",
    "    if len(weekly_arrays_list) == 7:      \n",
    "        admin2admin_arrays_weekly_aggregated[str(liste[6])] = sum(weekly_arrays_list)\n",
    "admin2admin_arrays_weekly_aggregated # store and continue temporal analysis somewhere else"
   ]
  },
  {
   "cell_type": "markdown",
   "id": "964fb6bd-1816-4821-8e91-be01301181c2",
   "metadata": {},
   "source": [
    "We can select single OD matrices from these aggregates. Here we are selecting an OD matrix from the first week. "
   ]
  },
  {
   "cell_type": "code",
   "execution_count": null,
   "id": "33b93f39-ef45-4121-ae79-055ca462b151",
   "metadata": {},
   "outputs": [],
   "source": [
    "admin2admin = list(admin2admin_arrays_weekly_aggregated.items())[0][1]\n",
    "admin2admin"
   ]
  },
  {
   "cell_type": "markdown",
   "id": "b73915ea-0f40-4e69-8eaa-03b97bcd08b2",
   "metadata": {
    "tags": []
   },
   "source": [
    "Calculate normalized inflow, ouflow, and inflow/outflow ratio of neighborhoods to identify net exporters (sources) and importers (sinks)"
   ]
  },
  {
   "cell_type": "code",
   "execution_count": null,
   "id": "8a9a8d39-4ea0-4b98-b570-3281ea9e72ab",
   "metadata": {},
   "outputs": [],
   "source": [
    "# Load demographic data for normalization\n",
    "pop = pd.read_csv(\"../data/0_input_data/population/population.csv\", delimiter=';')\n",
    "pop.set_index('CODBAIRRO', inplace=True)\n",
    "\n",
    "# Calculate inflow and normalize by population\n",
    "inflow = admin2admin.sum(axis=0)                                           # take sum over rows\n",
    "inflow = pd.DataFrame(inflow)\n",
    "inflow.index = inflow.index + 1                                            # shifting index\n",
    "inflow['admin_population'] = pop['Pop_health_pdf']\n",
    "inflow = inflow.iloc[:,:-1].div(inflow.admin_population, axis=0)\n",
    "\n",
    "# Calculate inflow and normalize by population\n",
    "outflow = admin2admin.sum(axis=1)                                          # take sum over columns\n",
    "outflow = pd.DataFrame(outflow)\n",
    "outflow.index = outflow.index + 1                                          # shifting index\n",
    "outflow['admin_population'] = pop['Pop_health_pdf']\n",
    "outflow = outflow.iloc[:,:-1].div(outflow.admin_population, axis=0)\n",
    "outflow\n",
    "\n",
    "# Add values to geometry\n",
    "regions_df = gpd.read_file(\"../data/0_input_data/study_region/study_region_RJ.geojson\")\n",
    "regions_df.set_index('CODBAIRRO', inplace =True)\n",
    "regions_df.sort_index(inplace=True)\n",
    "regions_df['Inflow']=admin2admin.sum(axis=0)\n",
    "regions_df['Outflow']=admin2admin.sum(axis=1)\n",
    "regions_df['Inflow_Outflow_Ratio']= regions_df['Inflow']/regions_df['Outflow']\n",
    "regions_df = pd.concat([regions_df, inflow], axis=1)\n",
    "regions_df.rename(columns={0: \"Inflow_to_Admin_Population_Ratio\"}, inplace=True)\n",
    "regions_df = pd.concat([regions_df, outflow], axis=1)\n",
    "regions_df.rename(columns={0: \"Outflow_to_Admin_Population_Ratio\"}, inplace=True)"
   ]
  },
  {
   "cell_type": "markdown",
   "id": "e4a6295c-2bf3-46b4-878a-320aa3ca746a",
   "metadata": {},
   "source": [
    "Plot inflow"
   ]
  },
  {
   "cell_type": "code",
   "execution_count": null,
   "id": "6c0d844f-e28b-4242-b397-d1072c0edf37",
   "metadata": {},
   "outputs": [],
   "source": [
    "fig, axes = plt.subplots(ncols=2, figsize=(25, 12))\n",
    "ax1, ax2 = axes\n",
    "ax1.set_title('Absolute Inflow')\n",
    "regions_df.plot(\"Inflow\", edgecolor='lightgrey', cmap=\"Greens\", ax=ax1, legend=True, scheme='quantiles') \n",
    "ax2.set_title('Relative Inflow')\n",
    "regions_df.plot(\"Inflow_to_Admin_Population_Ratio\", edgecolor='lightgrey', cmap=\"Greens\", ax=ax2, legend=True, scheme='quantiles') "
   ]
  },
  {
   "cell_type": "markdown",
   "id": "9cb66654-2763-4355-ad69-334b05f1c147",
   "metadata": {},
   "source": [
    "Plot outflow "
   ]
  },
  {
   "cell_type": "code",
   "execution_count": null,
   "id": "2c2a8804-d8e2-4304-a40e-8b03cf4bc364",
   "metadata": {},
   "outputs": [],
   "source": [
    "fig, axes = plt.subplots(ncols=2, figsize=(25, 12))\n",
    "ax1, ax2 = axes\n",
    "ax1.set_title('Absolute Outflow')\n",
    "regions_df.plot(\"Outflow\", edgecolor='lightgrey', cmap=\"Reds\", ax=ax1, legend=True, scheme='quantiles') \n",
    "ax2.set_title('Relative Outflow')\n",
    "regions_df.plot(\"Outflow_to_Admin_Population_Ratio\", edgecolor='lightgrey', cmap=\"Reds\", ax=ax2, legend=True, scheme='quantiles') "
   ]
  },
  {
   "cell_type": "markdown",
   "id": "2897a28b-fc9e-40ce-acd5-9caf4f8f7b0d",
   "metadata": {},
   "source": [
    "Plot sinks and sources"
   ]
  },
  {
   "cell_type": "code",
   "execution_count": null,
   "id": "b914528f-be46-468c-b018-9a387806175a",
   "metadata": {},
   "outputs": [],
   "source": [
    "regions_df['Net_Exporters_Sources'] = np.where(regions_df['Inflow_Outflow_Ratio']<=1 , np.nan, regions_df['Inflow_Outflow_Ratio'])\n",
    "regions_df['Net_Importers_Sinks'] = np.where(regions_df['Inflow_Outflow_Ratio']>1 , np.nan, regions_df['Inflow_Outflow_Ratio'])\n",
    "fig, ax = plt.subplots(figsize=(15,10))\n",
    "ax.set_title('Sinks (green) and Sources (red)')\n",
    "regions_df.plot(\"Net_Exporters_Sources\", edgecolor='lightgrey', cmap=\"Reds\", ax=ax, scheme='quantiles') \n",
    "regions_df.plot(\"Net_Importers_Sinks\", edgecolor='lightgrey', cmap=\"Greens\", ax=ax, scheme='quantiles') "
   ]
  },
  {
   "cell_type": "markdown",
   "id": "15d30a97-781f-483a-8717-4a9455103d02",
   "metadata": {
    "tags": []
   },
   "source": [
    "We can use the Louvain algorithm to retrieve the mobility metric of graph modularity (exemplary implementation for a selected tower2tower matrix)"
   ]
  },
  {
   "cell_type": "code",
   "execution_count": null,
   "id": "74f0ce80-9ab9-4fd0-8060-7e7f32dbc718",
   "metadata": {},
   "outputs": [],
   "source": [
    "tower2tower_arrays = {}\n",
    "for filename in os.listdir('../data/1_intermediate_output/tower2tower'):\n",
    "    if filename.endswith('.npy'):\n",
    "        tower2tower_arrays[filename] = np.load(os.path.join('../data/1_intermediate_output/tower2tower',filename))"
   ]
  },
  {
   "cell_type": "markdown",
   "id": "aeb220bb-501f-4aeb-b476-6983317a5a91",
   "metadata": {},
   "source": [
    "Select first tower2tower OD matrix of array"
   ]
  },
  {
   "cell_type": "code",
   "execution_count": null,
   "id": "a6a4d0b4-f378-4965-abb8-8301be8e1a63",
   "metadata": {},
   "outputs": [],
   "source": [
    "tower2tower = list(tower2tower_arrays.items())[0][1] # 0 indicated day\n",
    "tower2tower  "
   ]
  },
  {
   "cell_type": "code",
   "execution_count": null,
   "id": "076751b2-9f17-41ec-81bb-c624383e8eb2",
   "metadata": {},
   "outputs": [],
   "source": [
    "# Compute best partition\n",
    "G = nx.from_numpy_matrix(tower2tower)\n",
    "partition = community_louvain.best_partition(G, weight='weight')\n",
    "\n",
    "# Load tesselation area of that day and convert to epsg 4326\n",
    "antenna_tesselation = gpd.read_file('../data/01_intermediate_output/antenna_tesselations/tesselations_20200406234003.shp') # should be adjusted as needed\n",
    "antenna_tesselation.to_crs(\"EPSG:4326\", inplace=True)\n",
    "\n",
    "# Add community column to geodataframe\n",
    "partition_df = pd.DataFrame.from_dict(partition, orient='index').reset_index()\n",
    "partition_df.columns = ['antenna_id','Community']\n",
    "\n",
    "# Match antenna_id & community to FID (tesselation id), becasue tesselation id != antenna id\n",
    "tesselations_df = pd.merge(antenna_in_tesselation, partition_df, on=['antenna_id']) # get community for each antenna via antenna_id\n",
    "tesselations_df = pd.merge(tesselations_df, antenna_tesselation, on=['FID']) # get geometry of tesselations via FID\n",
    "\n",
    "# Plot \n",
    "fig, ax = plt.subplots(figsize=(25,10))\n",
    "ax.set_title('Communities' + ' (Modularity = ' + str(community.modularity(partition, G)) + ')')\n",
    "tesselations_df.plot(\"Community\", edgecolor='lightgrey', cmap=\"tab10\", ax=ax, legend=True) "
   ]
  },
  {
   "cell_type": "markdown",
   "id": "d0cf034d-9ea0-4265-9291-ca89c93345cf",
   "metadata": {},
   "source": [
    "Calculate graph modularity over temporally sequential OD matrices"
   ]
  },
  {
   "cell_type": "code",
   "execution_count": null,
   "id": "6d17b67f-a21e-4e17-a68b-36a92895c14c",
   "metadata": {},
   "outputs": [],
   "source": [
    "modularity_dict = {}\n",
    "for key, value in tower2tower_arrays.items():\n",
    "    G = nx.from_numpy_matrix(value)\n",
    "    partition = community_louvain.best_partition(G, weight='weight')\n",
    "    modularity_dict[key] = community.modularity(partition, G)"
   ]
  },
  {
   "cell_type": "markdown",
   "id": "141694ff-28e5-4a16-89e6-c7b696df31f4",
   "metadata": {},
   "source": [
    "Plot modularity indicator over time"
   ]
  },
  {
   "cell_type": "code",
   "execution_count": null,
   "id": "b4f152a0-f7c5-4b86-a631-d90d0819adf9",
   "metadata": {},
   "outputs": [],
   "source": [
    "# Build df for plotting\n",
    "modularity_df = pd.DataFrame(modularity_dict.items())\n",
    "modularity_df['date'] = pd.to_datetime(modularity_df[0].str[12:-10])\n",
    "modularity_df.set_index('date', inplace=True)\n",
    "modularity_df.rename(columns={1:'Modularity'}, inplace=True)\n",
    "modularity_df.drop(columns=[0], inplace=True)\n",
    "modularity_df\n",
    "\n",
    "# PLot\n",
    "plt.figure(figsize=(25,5))\n",
    "plt.ticklabel_format(style='plain', axis='y')\n",
    "plt.xticks(rotation=90)\n",
    "plot_=sns.lineplot(data=modularity_df[\"Modularity\"])\n",
    "plot_.xaxis.set_major_locator(ticker.LinearLocator(10))"
   ]
  },
  {
   "cell_type": "markdown",
   "id": "24bf8d67-bc5b-4bdb-a5a7-7d6bbcb93ab0",
   "metadata": {
    "tags": []
   },
   "source": [
    "We can also visualize OD matrices as heatmaps"
   ]
  },
  {
   "cell_type": "code",
   "execution_count": null,
   "id": "9bf3b6b8-2179-4b2f-8c68-856f19bbb41d",
   "metadata": {},
   "outputs": [],
   "source": [
    "normed_admin2admin = normalize(admin2admin, axis=1, norm='l1') # Normalization\n",
    "row_standardized_admin2admin = admin2admin/admin2admin.sum(axis=1, keepdims=True) # row Standardization\n",
    "\n",
    "# Plot\n",
    "sns.set()\n",
    "fig, ax = plt.subplots(figsize = (20,20))\n",
    "im = sns.heatmap(row_standardized_admin2admin, linewidths=.5, ax=ax, vmin=0, vmax=0.005, square=True,  cmap='Greens',fmt='.3f', cbar=True, cbar_kws={'extend': 'max'})"
   ]
  },
  {
   "cell_type": "markdown",
   "id": "4dfda9e9-7e86-46a3-9404-ff929847f781",
   "metadata": {},
   "source": [
    "We can also generate data files to visualize OD matrices via the Flowmap.blue tool (example: admin to admin)"
   ]
  },
  {
   "cell_type": "code",
   "execution_count": null,
   "id": "1bbfd903-d6df-4acc-8eca-de2eefaac744",
   "metadata": {},
   "outputs": [],
   "source": [
    "admin2admin_df = pd.DataFrame(admin2admin)\n",
    "a = list(range(1, 164))\n",
    "b = list(range(1, 164))\n",
    "c = list(itertools.product(a, b))\n",
    "c = pd.DataFrame(c, columns=['Origin', 'Destination'])\n",
    "d = list()\n",
    "for index, row in c.iterrows():\n",
    "    d.append(round(admin2admin_df.iloc[row['Origin']-1,row['Destination']-1]))\n",
    "c['Flow'] = d\n",
    "c.to_csv('../data/2_final_output/FlowmapBlue_input_files/flow.csv', sep=',', index=False)\n",
    "\n",
    "# Create locations.csv\n",
    "locations= regions_df[['NOME', 'geometry']]\n",
    "locations['lat'] = locations['geometry'].centroid.to_crs(epsg=4326).y\n",
    "locations['lon'] = locations['geometry'].centroid.to_crs(epsg=4326).x\n",
    "locations.drop(columns=['geometry'], inplace=True)\n",
    "locations.to_csv('../data/2_final_output/FlowmapBlue_input_files/locations.csv', sep=',', index=True, encoding='utf-8')"
   ]
  }
 ],
 "metadata": {
  "kernelspec": {
   "display_name": "Python 3 (ipykernel)",
   "language": "python",
   "name": "python3"
  },
  "language_info": {
   "codemirror_mode": {
    "name": "ipython",
    "version": 3
   },
   "file_extension": ".py",
   "mimetype": "text/x-python",
   "name": "python",
   "nbconvert_exporter": "python",
   "pygments_lexer": "ipython3",
   "version": "3.9.7"
  }
 },
 "nbformat": 4,
 "nbformat_minor": 5
}

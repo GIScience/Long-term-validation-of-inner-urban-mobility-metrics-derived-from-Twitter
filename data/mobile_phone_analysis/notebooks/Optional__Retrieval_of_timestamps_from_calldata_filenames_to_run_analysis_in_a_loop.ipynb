{
 "cells": [
  {
   "cell_type": "markdown",
   "id": "785c667b-8992-44ab-943a-dcca7a683312",
   "metadata": {},
   "source": [
    "## Optional: Retrieval of timestamps from calldata filenames to run analysis in a loop"
   ]
  },
  {
   "cell_type": "markdown",
   "id": "93f7a8fd-531f-4e56-a44b-44168754313d",
   "metadata": {},
   "source": [
    "This notebook can help case studies, where mobile phone records are provided in zipped .txt-files, containing a timestamp in the filename (e.g. \"DDD_21_20210925001002.txt.gz\" or more generally formulated as \"DDD_YY_YYYYMMDDhhmmss.txt.gz\")\n",
    "Based on a desired time interval of analysis (e.g. days/weeks/months) this notebook creates a dictionary of start and end timestamps for each interval using the datetimeformat of the raw data filenames. This can help when trying to run the provided scripts of this repository in a loop over time intervals of analysis."
   ]
  },
  {
   "cell_type": "markdown",
   "id": "bf635452-874b-467d-84ee-975f3ae784f3",
   "metadata": {},
   "source": [
    "Load required packages"
   ]
  },
  {
   "cell_type": "code",
   "execution_count": null,
   "id": "6c1b10f5-0085-4b32-b770-c3de0f112bc4",
   "metadata": {},
   "outputs": [],
   "source": [
    "import pandas as pd\n",
    "import os"
   ]
  },
  {
   "cell_type": "markdown",
   "id": "92813901-48c1-42a5-90ac-4563efb591df",
   "metadata": {},
   "source": [
    "Specify path to data"
   ]
  },
  {
   "cell_type": "code",
   "execution_count": null,
   "id": "b9acb16f-d64c-4ae5-8580-194b0c383324",
   "metadata": {},
   "outputs": [],
   "source": [
    "# path to temporally sorted *.gz files with the following filename structure \"DDD_YY_YYYMMDDhhmmss\"\n",
    "path_to_zipped_calldata_on_server_from_notebook_working_path = '../data/0_input_data/calldata/zipped' \n",
    "# path to .csv-file containing daily timestamps (columns) for time intervals of analysis (rows) in the follwing datetimeformat 'YYYYMMDD') \n",
    "path_to_timestamp_list                                       = '../data/0_input_data/timestamps/timestamps.csv' "
   ]
  },
  {
   "cell_type": "markdown",
   "id": "3c354264-d4d7-4cc6-b238-590c51099a48",
   "metadata": {},
   "source": [
    "Create list of timestamps present in the filenames of the raw data."
   ]
  },
  {
   "cell_type": "code",
   "execution_count": null,
   "id": "89b691a9-d39b-4a6b-8492-c95532ad3c42",
   "metadata": {},
   "outputs": [],
   "source": [
    "timestamps_from_zipped_files = []\n",
    "for zipped_file in os.listdir(path_to_zipped_calldata_on_server_from_notebook_working_path):\n",
    "    if zipped_file.startswith(\"DDD\"):\n",
    "        timestamps_from_zipped_files.append(zipped_file[7:-7]) # retrieve timestamp from filename with format \"DDD_YY_YYYYMMDDhhmmss\"\n",
    "print(timestamps_from_zipped_files)"
   ]
  },
  {
   "cell_type": "markdown",
   "id": "53c145b1-c1e2-45c1-a02b-fe8a5de223b7",
   "metadata": {},
   "source": [
    "Load timestamps for each interval, where each row represents an interval and each column caontinas a timestmap. (here: daily interval of analysis, thus only one timestamps per row)"
   ]
  },
  {
   "cell_type": "code",
   "execution_count": null,
   "id": "4579abb3-b9c7-4dca-b456-93308762cab1",
   "metadata": {},
   "outputs": [],
   "source": [
    "timestamps = pd.read_csv(path_to_timestamp_list, delimiter=';', header=None)\n",
    "timestamps.head()"
   ]
  },
  {
   "cell_type": "markdown",
   "id": "b81be098-d30e-4cbd-ab5f-44e71cd023c4",
   "metadata": {},
   "source": [
    "Create dictionary, where the key represents an index for the time interval of analysis and the value contains a tuple of start and end timestamps in the datetime format used in the raw data filenames. "
   ]
  },
  {
   "cell_type": "code",
   "execution_count": null,
   "id": "3a67a356-e082-4468-bc30-6a6a1160003d",
   "metadata": {
    "scrolled": true
   },
   "outputs": [],
   "source": [
    "timestamps_dict = {}\n",
    "for index, row in timestamps.iterrows():\n",
    "    matchers = list(row)\n",
    "    matchers_string = [str(i) for i in matchers]\n",
    "    matching = [s for s in timestamps_from_zipped_files if any(xs in s for xs in matchers_string)]\n",
    "    matching.sort()\n",
    "    if matching:\n",
    "        timestamps_dict['day_' + str(index)] = (matching[0], matching[-1])\n",
    "\n",
    "# Print dictionary\n",
    "timestamps_dict"
   ]
  },
  {
   "cell_type": "markdown",
   "id": "9ef4430f-4829-4d0f-87fb-7540a299f7fc",
   "metadata": {},
   "source": [
    "Store dict as csv-file"
   ]
  },
  {
   "cell_type": "code",
   "execution_count": null,
   "id": "ed6001a4-c1c4-4c86-ad6f-47b5fe70af79",
   "metadata": {},
   "outputs": [],
   "source": [
    "timestamps_df = pd.DataFrame.from_dict(timestamps_dict)\n",
    "timestamps_df.T.to_csv('../data/0_input_data/timestamps/timestamps_df.csv', header=False)"
   ]
  }
 ],
 "metadata": {
  "kernelspec": {
   "display_name": "Python 3 (ipykernel)",
   "language": "python",
   "name": "python3"
  },
  "language_info": {
   "codemirror_mode": {
    "name": "ipython",
    "version": 3
   },
   "file_extension": ".py",
   "mimetype": "text/x-python",
   "name": "python",
   "nbconvert_exporter": "python",
   "pygments_lexer": "ipython3",
   "version": "3.9.7"
  }
 },
 "nbformat": 4,
 "nbformat_minor": 5
}

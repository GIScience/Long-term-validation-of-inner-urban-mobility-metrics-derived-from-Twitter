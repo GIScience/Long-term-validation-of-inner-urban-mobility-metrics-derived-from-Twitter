{
 "cells": [
  {
   "cell_type": "code",
   "execution_count": 1,
   "id": "0d9788f0",
   "metadata": {},
   "outputs": [],
   "source": [
    "import os\n",
    "import numpy as np\n",
    "import pandas as pd\n",
    "import notebooks_loops_script as nls\n",
    "import backend_codes.load_subsets as ls"
   ]
  },
  {
   "cell_type": "markdown",
   "id": "dcb869b1",
   "metadata": {},
   "source": [
    "# Origin Destination (OD) Matrices\n",
    "This notebook creates OD matrices form the respective rolling windows."
   ]
  },
  {
   "cell_type": "code",
   "execution_count": 2,
   "id": "678540c5",
   "metadata": {},
   "outputs": [],
   "source": [
    "# Rolling Window Parameters\n",
    "start = \"20200406\"\n",
    "end = \"20200409\"\n",
    "denom = \"3days\"\n",
    "allow_even_subsets = False\n",
    "sam = False\n",
    "del_one_tweeters = True"
   ]
  },
  {
   "cell_type": "code",
   "execution_count": 3,
   "id": "85e83d21",
   "metadata": {},
   "outputs": [],
   "source": [
    "middle = nls.middeling(start, end, allow_even_subsets=allow_even_subsets)"
   ]
  },
  {
   "cell_type": "code",
   "execution_count": 4,
   "id": "42bd706f",
   "metadata": {},
   "outputs": [],
   "source": [
    "mm_path = f'./data/movement_matrices_notebookdemo/{denom}/mm_{middle}.npy'\n",
    "if type(sam) == int:\n",
    "    mm_path = mm_path.split('.npy')[0] + f'_{str(sam)}.npy'"
   ]
  },
  {
   "cell_type": "code",
   "execution_count": 5,
   "id": "a9957921",
   "metadata": {},
   "outputs": [],
   "source": [
    "path = mm_path.split(\"/mm\")[0]\n",
    "if not os.path.exists(path):\n",
    "    os.mkdir(path)"
   ]
  },
  {
   "cell_type": "markdown",
   "id": "a3802a49",
   "metadata": {},
   "source": [
    "# Creating OD Matrices \n",
    "We now use the user_dicts to get some infos about the users tweeting habits. A function is desinged, the constructs an Origin-Destination Matrix from the respective rolling window."
   ]
  },
  {
   "cell_type": "code",
   "execution_count": 6,
   "id": "6f279212",
   "metadata": {},
   "outputs": [],
   "source": [
    "tweets_df = ls.load_and_subset(start, end, del_one_tweeters=del_one_tweeters, samp_size=sam, tweets_path=\"data/tweets/preprocessed_tweets_with_poi_location.csv\")"
   ]
  },
  {
   "cell_type": "code",
   "execution_count": 7,
   "id": "6e4dfcd8",
   "metadata": {},
   "outputs": [],
   "source": [
    "def create_matrix(df, diag_to_0=False):   \n",
    "    # reset index\n",
    "    df = df.reset_index(drop=True)\n",
    "    \n",
    "    # create list of the unique user IDs\n",
    "    user_ids = df.User_ID.unique().tolist()\n",
    "\n",
    "    # create a dict, with an empty list for ea user ID\n",
    "    user_sequence = {_id: [] for _id in user_ids}\n",
    "\n",
    "    # fill the dict with all visited Barrio IDs (they are sorted by timestamp for each user)\n",
    "    for i in range(len(df)):\n",
    "        user_sequence[df.User_ID[i]].append(df.cod[i])\n",
    "\n",
    "    # create the full movement matrix\n",
    "    matrix = np.zeros((164, 164))\n",
    "    for key in user_sequence:\n",
    "        _len = len(user_sequence[key])\n",
    "        if _len > 0:\n",
    "            for i in range(0, _len-1):\n",
    "                matrix[user_sequence[key][i], user_sequence[key][i+1]] = \\\n",
    "                    matrix.item((user_sequence[key][i], user_sequence[key][i+1])) + 1\n",
    "\n",
    "    \n",
    "    # set diagonal to 0\n",
    "    def fun_diag_to_0(matrix):\n",
    "        for i in range(0, 164):\n",
    "            matrix[i, i] = 0\n",
    "        return matrix\n",
    "    \n",
    "    \n",
    "    if diag_to_0:\n",
    "        matrix = fun_diag_to_0(matrix)\n",
    "        \n",
    "\n",
    "    full_movement_matrix = pd.DataFrame(matrix)\n",
    "    full_movement_matrix = full_movement_matrix.drop([0]).drop([0], axis=1) # drop first row and column\n",
    "\n",
    "    \n",
    "    return full_movement_matrix, user_sequence"
   ]
  },
  {
   "cell_type": "code",
   "execution_count": 8,
   "id": "0f4889a5",
   "metadata": {},
   "outputs": [],
   "source": [
    "full_movement_matrix, user_sequence = create_matrix(tweets_df, diag_to_0=True)\n",
    "np.save(mm_path, full_movement_matrix.to_numpy())"
   ]
  }
 ],
 "metadata": {
  "kernelspec": {
   "display_name": "Python 3 (ipykernel)",
   "language": "python",
   "name": "python3"
  },
  "language_info": {
   "codemirror_mode": {
    "name": "ipython",
    "version": 3
   },
   "file_extension": ".py",
   "mimetype": "text/x-python",
   "name": "python",
   "nbconvert_exporter": "python",
   "pygments_lexer": "ipython3",
   "version": "3.11.4"
  }
 },
 "nbformat": 4,
 "nbformat_minor": 5
}
